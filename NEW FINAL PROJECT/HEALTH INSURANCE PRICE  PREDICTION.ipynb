{
 "cells": [
  {
   "cell_type": "code",
   "execution_count": null,
   "id": "d1ed7c91",
   "metadata": {},
   "outputs": [],
   "source": [
    "import numpy as np\n",
    "import pandas as pd\n",
    "import matplotlib.pyplot as plt\n",
    "import seaborn as sns\n",
    "from sklearn.model_selection import train_test_split\n",
    "from sklearn.linear_model import LinearRegression\n",
    "from sklearn import metrics"
   ]
  },
  {
   "cell_type": "code",
   "execution_count": null,
   "id": "48c640dc",
   "metadata": {},
   "outputs": [],
   "source": [
    "import warnings\n",
    "warnings.filterwarnings('ignore')"
   ]
  },
  {
   "cell_type": "code",
   "execution_count": null,
   "id": "2ffc04e4",
   "metadata": {},
   "outputs": [],
   "source": [
    "insurance_dataset = pd.read_csv(r'C:\\Users\\Harsha\\Desktop\\NEW FINAL PROJECT\\HEALTH INSURENCE PRICE DATA.csv')"
   ]
  },
  {
   "cell_type": "code",
   "execution_count": null,
   "id": "30d1c9c4",
   "metadata": {},
   "outputs": [],
   "source": [
    "insurance_dataset.head()"
   ]
  },
  {
   "cell_type": "code",
   "execution_count": null,
   "id": "410f6d42",
   "metadata": {},
   "outputs": [],
   "source": [
    "insurance_dataset.shape"
   ]
  },
  {
   "cell_type": "code",
   "execution_count": null,
   "id": "b78d2a40",
   "metadata": {},
   "outputs": [],
   "source": [
    "insurance_dataset.columns"
   ]
  },
  {
   "cell_type": "code",
   "execution_count": null,
   "id": "8e266ec0",
   "metadata": {},
   "outputs": [],
   "source": [
    "insurance_dataset.fillna(insurance_dataset.mean(numeric_only = True).round(1), inplace = True)"
   ]
  },
  {
   "cell_type": "code",
   "execution_count": null,
   "id": "c76fac3b",
   "metadata": {},
   "outputs": [],
   "source": [
    "insurance_dataset.info()"
   ]
  },
  {
   "cell_type": "code",
   "execution_count": null,
   "id": "56475073",
   "metadata": {},
   "outputs": [],
   "source": [
    "insurance_dataset.isnull().sum()"
   ]
  },
  {
   "cell_type": "code",
   "execution_count": null,
   "id": "fddf909a",
   "metadata": {},
   "outputs": [],
   "source": [
    "insurance_dataset.describe()"
   ]
  },
  {
   "cell_type": "code",
   "execution_count": null,
   "id": "d25c4f52",
   "metadata": {},
   "outputs": [],
   "source": [
    "sns.set()\n",
    "plt.figure(figsize=(6,6))\n",
    "sns.displot(insurance_dataset['Age'])\n",
    "plt.title('Age Distribution')\n",
    "plt.show()\n",
    "\n",
    "# distribution of age value"
   ]
  },
  {
   "cell_type": "code",
   "execution_count": null,
   "id": "eddb2c60",
   "metadata": {},
   "outputs": [],
   "source": [
    "plt.figure(figsize=(6,6))\n",
    "sns.countplot(x='sex', data=insurance_dataset)\n",
    "plt.title('Sex Distribution')\n",
    "plt.show()\n",
    "\n",
    "# Gender column"
   ]
  },
  {
   "cell_type": "code",
   "execution_count": null,
   "id": "d2c1ad91",
   "metadata": {},
   "outputs": [],
   "source": [
    "insurance_dataset['sex'].value_counts()"
   ]
  },
  {
   "cell_type": "code",
   "execution_count": null,
   "id": "7ed299db",
   "metadata": {},
   "outputs": [],
   "source": [
    "insurance_dataset['smoker'].value_counts()"
   ]
  },
  {
   "cell_type": "code",
   "execution_count": null,
   "id": "d1e4a297",
   "metadata": {},
   "outputs": [],
   "source": [
    "f,ax = plt.subplots(figsize=(4,3))\n",
    "ax = sns.countplot(x='sex',hue='smoker',data=insurance_dataset)\n",
    "plt.show()"
   ]
  },
  {
   "cell_type": "code",
   "execution_count": null,
   "id": "d10ed8f2",
   "metadata": {},
   "outputs": [],
   "source": [
    "f,ax = plt.subplots(figsize=(4,3))\n",
    "ax = sns.countplot(x='sex',hue='Diabetes',data=insurance_dataset)\n",
    "plt.show()"
   ]
  },
  {
   "cell_type": "code",
   "execution_count": null,
   "id": "4e8ad7d4",
   "metadata": {},
   "outputs": [],
   "source": [
    "f,ax = plt.subplots(figsize=(4,3))\n",
    "ax = sns.countplot(x='sex',hue='Blood Pressure',data=insurance_dataset)\n",
    "plt.show()"
   ]
  },
  {
   "cell_type": "code",
   "execution_count": null,
   "id": "b2b3ef2e",
   "metadata": {},
   "outputs": [],
   "source": [
    "insurance_dataset.columns"
   ]
  },
  {
   "cell_type": "code",
   "execution_count": null,
   "id": "48ec6917",
   "metadata": {},
   "outputs": [],
   "source": [
    "plt.figure(figsize=(6,6))\n",
    "sns.displot(insurance_dataset['bmi'])\n",
    "plt.title('BMI Distribution')\n",
    "plt.show()\n",
    "\n",
    "#for bmi distribution "
   ]
  },
  {
   "cell_type": "code",
   "execution_count": null,
   "id": "550ca75d",
   "metadata": {},
   "outputs": [],
   "source": [
    "f, ax = plt.subplots(figsize=(5,3))\n",
    "x=insurance_dataset['bmi']\n",
    "x = pd.Series(x,name=\"BMI values\")\n",
    "ax=sns.distplot(x, bins=10)\n",
    "plt.show()"
   ]
  },
  {
   "cell_type": "code",
   "execution_count": null,
   "id": "4aa26d9f",
   "metadata": {},
   "outputs": [],
   "source": [
    "f, ax = plt.subplots(figsize=(5,3))\n",
    "x=insurance_dataset['bmi']\n",
    "x = pd.Series(x,name=\"BMI values\")\n",
    "ax = sns.kdeplot(x)\n",
    "plt.show()"
   ]
  },
  {
   "cell_type": "code",
   "execution_count": null,
   "id": "19bca6c9",
   "metadata": {},
   "outputs": [],
   "source": [
    "f, ax = plt.subplots(figsize=(5,3))\n",
    "x=insurance_dataset['bmi']\n",
    "x = pd.Series(x,name=\"BMI values\")\n",
    "ax = sns.kdeplot(x,shade=True,color='g')\n",
    "plt.show()"
   ]
  },
  {
   "cell_type": "code",
   "execution_count": null,
   "id": "1b097623",
   "metadata": {},
   "outputs": [],
   "source": [
    "f, ax = plt.subplots(figsize=(5,3))\n",
    "x=insurance_dataset['bmi']\n",
    "x = pd.Series(x,name=\"BMI values\")\n",
    "ax=sns.distplot(x,kde=False,rug=True,bins=10)\n",
    "plt.show()"
   ]
  },
  {
   "cell_type": "code",
   "execution_count": null,
   "id": "c60d1a21",
   "metadata": {},
   "outputs": [],
   "source": [
    "plt.figure(figsize=(6,6))\n",
    "sns.displot(insurance_dataset['Blood Pressure'])\n",
    "plt.title('Blood Pressure')\n",
    "plt.show()\n",
    "\n",
    "#for BloodPressureProblems"
   ]
  },
  {
   "cell_type": "code",
   "execution_count": null,
   "id": "842da0d3",
   "metadata": {},
   "outputs": [],
   "source": [
    "insurance_dataset['Blood Pressure'].value_counts()"
   ]
  },
  {
   "cell_type": "code",
   "execution_count": null,
   "id": "342686ff",
   "metadata": {},
   "outputs": [],
   "source": [
    "plt.figure(figsize=(6,6))\n",
    "sns.countplot(x='children', data=insurance_dataset)\n",
    "plt.title('Children')\n",
    "plt.show()"
   ]
  },
  {
   "cell_type": "code",
   "execution_count": null,
   "id": "b9d7d00f",
   "metadata": {},
   "outputs": [],
   "source": [
    "insurance_dataset['children'].value_counts()"
   ]
  },
  {
   "cell_type": "code",
   "execution_count": null,
   "id": "b1d7da07",
   "metadata": {},
   "outputs": [],
   "source": [
    "plt.figure(figsize=(6,6))\n",
    "sns.countplot(x='smoker', data=insurance_dataset)\n",
    "plt.title('smoker')\n",
    "plt.show()"
   ]
  },
  {
   "cell_type": "code",
   "execution_count": null,
   "id": "154d6d07",
   "metadata": {},
   "outputs": [],
   "source": [
    "sns.barplot(x='smoker',y='Insurance Price',hue='children',data=insurance_dataset)"
   ]
  },
  {
   "cell_type": "code",
   "execution_count": null,
   "id": "aea57a4f",
   "metadata": {},
   "outputs": [],
   "source": [
    "insurance_dataset['smoker'].value_counts()"
   ]
  },
  {
   "cell_type": "code",
   "execution_count": null,
   "id": "499327ef",
   "metadata": {},
   "outputs": [],
   "source": [
    "plt.figure(figsize=(6,6))\n",
    "sns.countplot(x='Diabetes', data=insurance_dataset)\n",
    "plt.title('Diabetes')\n",
    "plt.show()"
   ]
  },
  {
   "cell_type": "code",
   "execution_count": null,
   "id": "2bea8b54",
   "metadata": {},
   "outputs": [],
   "source": [
    "insurance_dataset.columns"
   ]
  },
  {
   "cell_type": "code",
   "execution_count": null,
   "id": "909a17d7",
   "metadata": {},
   "outputs": [],
   "source": [
    "insurance_dataset['Diabetes'].value_counts()"
   ]
  },
  {
   "cell_type": "code",
   "execution_count": null,
   "id": "5c447e78",
   "metadata": {},
   "outputs": [],
   "source": [
    "plt.figure(figsize=(6,6))\n",
    "sns.displot(insurance_dataset['Insurance Price'])\n",
    "plt.title('Insurance Price Distribution')\n",
    "plt.show()"
   ]
  },
  {
   "cell_type": "code",
   "execution_count": null,
   "id": "5972835e",
   "metadata": {},
   "outputs": [],
   "source": [
    "x_axis = [\"Age\", \"bmi\", \"children\", \"Insurance Price\"]\n",
    "for x in x_axis:\n",
    "    fig, axes = plt.subplots(1, 2, figsize=(18,4))\n",
    "    sns.distplot(insurance_dataset[x], ax=axes[0], kde = False)\n",
    "    sns.boxplot(insurance_dataset[x], ax=axes[1], orient = \"h\", showmeans = True, color = \"pink\")\n",
    "    fig.suptitle('Univariate Analysis of ' + x, fontsize=16)"
   ]
  },
  {
   "cell_type": "code",
   "execution_count": null,
   "id": "a4c955bf",
   "metadata": {},
   "outputs": [],
   "source": [
    "insurance_dataset.columns.tolist()"
   ]
  },
  {
   "cell_type": "code",
   "execution_count": null,
   "id": "5db997ec",
   "metadata": {},
   "outputs": [],
   "source": [
    "sns.barplot(x = \"children\", y = \"Insurance Price\",hue='sex', data = insurance_dataset)"
   ]
  },
  {
   "cell_type": "code",
   "execution_count": null,
   "id": "c1dc0138",
   "metadata": {},
   "outputs": [],
   "source": [
    "# let's check age versus expenses scatterplot\n",
    "plt.scatter(insurance_dataset[\"Age\"], insurance_dataset[\"Insurance Price\"])\n",
    "plt.xlabel(\"Age\", fontsize = 13)\n",
    "plt.ylabel(\"Insurance Price\", fontsize = 13)\n",
    "plt.title(\"Scatter Plot\", fontsize = 15)\n",
    "plt.grid()\n",
    "plt.show()"
   ]
  },
  {
   "cell_type": "code",
   "execution_count": null,
   "id": "1de49fd3",
   "metadata": {},
   "outputs": [],
   "source": [
    "# let's check bmi versus expenses scatterplot\n",
    "plt.scatter(insurance_dataset[\"bmi\"], insurance_dataset[\"Insurance Price\"])\n",
    "plt.xlabel(\"bmi\", fontsize = 13)\n",
    "plt.ylabel(\"Insurance Price\", fontsize = 13)\n",
    "plt.title(\"Scatter Plot\", fontsize = 15)\n",
    "plt.grid()\n",
    "plt.show()"
   ]
  },
  {
   "cell_type": "code",
   "execution_count": null,
   "id": "5a83d320",
   "metadata": {},
   "outputs": [],
   "source": [
    "plt.scatter(insurance_dataset[\"children\"], insurance_dataset[\"Insurance Price\"])\n",
    "plt.xlabel(\"children\", fontsize = 13)\n",
    "plt.ylabel(\"Insurance Price\", fontsize = 13)\n",
    "plt.title(\"Scatter Plot\", fontsize = 15)\n",
    "plt.grid()\n",
    "plt.show()"
   ]
  },
  {
   "cell_type": "code",
   "execution_count": null,
   "id": "4d58f984",
   "metadata": {},
   "outputs": [],
   "source": [
    "insurance_dataset['sex'].unique()"
   ]
  },
  {
   "cell_type": "code",
   "execution_count": null,
   "id": "6dd5d164",
   "metadata": {},
   "outputs": [],
   "source": [
    "# encoding sex column\n",
    "insurance_dataset.replace({'sex':{'male':0,'female':1}}, inplace=True)"
   ]
  },
  {
   "cell_type": "code",
   "execution_count": null,
   "id": "8cddda55",
   "metadata": {},
   "outputs": [],
   "source": [
    "insurance_dataset.head()"
   ]
  },
  {
   "cell_type": "code",
   "execution_count": null,
   "id": "844ff6fb",
   "metadata": {},
   "outputs": [],
   "source": [
    "insurance_dataset['smoker'].unique()"
   ]
  },
  {
   "cell_type": "code",
   "execution_count": null,
   "id": "4927ce0b",
   "metadata": {},
   "outputs": [],
   "source": [
    "# encoding 'smoker' column\n",
    "insurance_dataset.replace({'smoker':{'yes':0,'no':1}}, inplace=True)"
   ]
  },
  {
   "cell_type": "code",
   "execution_count": null,
   "id": "9c527f27",
   "metadata": {},
   "outputs": [],
   "source": [
    "insurance_dataset.head()"
   ]
  },
  {
   "cell_type": "markdown",
   "id": "59ab88c6",
   "metadata": {},
   "source": [
    "# Splitting the Features and Target"
   ]
  },
  {
   "cell_type": "code",
   "execution_count": null,
   "id": "b55c233d",
   "metadata": {},
   "outputs": [],
   "source": [
    "X = insurance_dataset.drop(columns='Insurance Price', axis=1)\n",
    "Y = insurance_dataset['Insurance Price']"
   ]
  },
  {
   "cell_type": "code",
   "execution_count": null,
   "id": "97988469",
   "metadata": {},
   "outputs": [],
   "source": [
    "print(X)"
   ]
  },
  {
   "cell_type": "code",
   "execution_count": null,
   "id": "159e1f55",
   "metadata": {},
   "outputs": [],
   "source": [
    "print(Y)"
   ]
  },
  {
   "cell_type": "markdown",
   "id": "39a02aed",
   "metadata": {},
   "source": [
    "# Splitting the data into Training data & Testing Data\n"
   ]
  },
  {
   "cell_type": "code",
   "execution_count": null,
   "id": "95647feb",
   "metadata": {},
   "outputs": [],
   "source": [
    "from sklearn.model_selection import train_test_split"
   ]
  },
  {
   "cell_type": "code",
   "execution_count": null,
   "id": "0f6b4c56",
   "metadata": {},
   "outputs": [],
   "source": [
    "X_train, X_test, Y_train, Y_test = train_test_split(X, Y, test_size=0.2, random_state=42)"
   ]
  },
  {
   "cell_type": "code",
   "execution_count": null,
   "id": "a786ac11",
   "metadata": {},
   "outputs": [],
   "source": [
    "print(X.shape, X_train.shape, X_test.shape)"
   ]
  },
  {
   "cell_type": "markdown",
   "id": "b1244688",
   "metadata": {},
   "source": [
    "# Model Training"
   ]
  },
  {
   "cell_type": "markdown",
   "id": "815fc0a5",
   "metadata": {},
   "source": [
    "# Linear Regression"
   ]
  },
  {
   "cell_type": "code",
   "execution_count": null,
   "id": "af3c414c",
   "metadata": {},
   "outputs": [],
   "source": [
    "from sklearn.experimental import enable_hist_gradient_boosting  # noqa\n",
    "from sklearn.ensemble import HistGradientBoostingRegressor"
   ]
  },
  {
   "cell_type": "code",
   "execution_count": null,
   "id": "fc6f228b",
   "metadata": {},
   "outputs": [],
   "source": [
    "# loading the Linear Regression model\n",
    "regressor = HistGradientBoostingRegressor()"
   ]
  },
  {
   "cell_type": "code",
   "execution_count": null,
   "id": "fae5ce7c",
   "metadata": {},
   "outputs": [],
   "source": [
    "regressor.fit(X_train,Y_train)"
   ]
  },
  {
   "cell_type": "markdown",
   "id": "3944af3e",
   "metadata": {},
   "source": [
    "# Model Evaluation"
   ]
  },
  {
   "cell_type": "code",
   "execution_count": null,
   "id": "a4531e93",
   "metadata": {},
   "outputs": [],
   "source": [
    "training_data_prediction =regressor.predict(X_train)"
   ]
  },
  {
   "cell_type": "code",
   "execution_count": null,
   "id": "f7025dc9",
   "metadata": {},
   "outputs": [],
   "source": [
    "r2_train = metrics.r2_score(Y_train, training_data_prediction)\n",
    "print('R squared vale : ', r2_train)"
   ]
  },
  {
   "cell_type": "code",
   "execution_count": null,
   "id": "c7517431",
   "metadata": {},
   "outputs": [],
   "source": [
    "test_data_prediction =regressor.predict(X_test)"
   ]
  },
  {
   "cell_type": "code",
   "execution_count": null,
   "id": "73ae1d00",
   "metadata": {},
   "outputs": [],
   "source": [
    "r2_test = metrics.r2_score(Y_test, test_data_prediction)\n",
    "print('R squared vale : ', r2_test)"
   ]
  },
  {
   "cell_type": "code",
   "execution_count": null,
   "id": "38ed629d",
   "metadata": {},
   "outputs": [],
   "source": [
    "insurance_dataset.columns"
   ]
  },
  {
   "cell_type": "code",
   "execution_count": null,
   "id": "628bf62d",
   "metadata": {},
   "outputs": [],
   "source": [
    "print(regressor.score(X_train, Y_train))\n",
    "print(regressor.score(X_test, Y_test))"
   ]
  },
  {
   "cell_type": "code",
   "execution_count": null,
   "id": "6fda6cb2",
   "metadata": {},
   "outputs": [],
   "source": [
    "#from sklearn import metrics"
   ]
  },
  {
   "cell_type": "code",
   "execution_count": null,
   "id": "af78a629",
   "metadata": {},
   "outputs": [],
   "source": [
    "# Evaluating metrics\n",
    "#print('MAE:', metrics.mean_absolute_error(Y_test, test_data_prediction ))\n",
    "#print('MSE:', metrics.mean_squared_error(Y_test, test_data_prediction ))\n",
    "#print('RMSE:', np.sqrt(metrics.mean_squared_error(Y_test, test_data_prediction ))"
   ]
  },
  {
   "cell_type": "code",
   "execution_count": null,
   "id": "02c5b6fe",
   "metadata": {},
   "outputs": [],
   "source": [
    "#df_3 = pd.DataFrame({'Actual':Y_test,'Predicted':test_data_prediction ,'Variance':Y_test - test_data_prediction})\n",
    "#df_3.head()"
   ]
  },
  {
   "cell_type": "code",
   "execution_count": null,
   "id": "26eb860b",
   "metadata": {},
   "outputs": [],
   "source": [
    "#sns.distplot(Y_test - test_data_prediction )"
   ]
  },
  {
   "cell_type": "code",
   "execution_count": null,
   "id": "fea994e3",
   "metadata": {},
   "outputs": [],
   "source": [
    "#plt.scatter(Y_test, test_data_prediction )"
   ]
  },
  {
   "cell_type": "markdown",
   "id": "a4d26f41",
   "metadata": {},
   "source": [
    "# Building a Predictive System"
   ]
  },
  {
   "cell_type": "code",
   "execution_count": null,
   "id": "316b146a",
   "metadata": {},
   "outputs": [],
   "source": [
    "input_data = (56,1,0,0,167,82,35.5,0,0)\n",
    "\n",
    "# changing input_data to a numpy array\n",
    "input_data_as_numpy_array = np.asarray(input_data)\n",
    "\n",
    "# reshape the array\n",
    "input_data_reshaped = input_data_as_numpy_array.reshape(1,-1)\n",
    "\n",
    "prediction = regressor.predict(input_data_reshaped)\n",
    "\n",
    "print('The insurance cost for the customer ', round(prediction[0]))\n",
    "\n",
    "\n",
    "#FOR YOUTH PERSON"
   ]
  },
  {
   "cell_type": "code",
   "execution_count": null,
   "id": "a67f3bd9",
   "metadata": {},
   "outputs": [],
   "source": [
    "import joblib"
   ]
  },
  {
   "cell_type": "code",
   "execution_count": null,
   "id": "2ef4fecf",
   "metadata": {},
   "outputs": [],
   "source": [
    "joblib.dump(regressor, \"insurance_price_model.pkl\")"
   ]
  },
  {
   "cell_type": "code",
   "execution_count": null,
   "id": "1764bf08",
   "metadata": {},
   "outputs": [],
   "source": []
  }
 ],
 "metadata": {
  "kernelspec": {
   "display_name": "Python 3 (ipykernel)",
   "language": "python",
   "name": "python3"
  },
  "language_info": {
   "codemirror_mode": {
    "name": "ipython",
    "version": 3
   },
   "file_extension": ".py",
   "mimetype": "text/x-python",
   "name": "python",
   "nbconvert_exporter": "python",
   "pygments_lexer": "ipython3",
   "version": "3.11.4"
  }
 },
 "nbformat": 4,
 "nbformat_minor": 5
}
